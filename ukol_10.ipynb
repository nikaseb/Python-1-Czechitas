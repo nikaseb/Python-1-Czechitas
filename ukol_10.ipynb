{
 "cells": [
  {
   "cell_type": "code",
   "execution_count": null,
   "metadata": {},
   "outputs": [],
   "source": [
    "import pandas\n",
    "zam_liberec = pandas.read_csv('zam_liberec.csv')\n",
    "zam_plzen = pandas.read_csv('zam_plzeň.csv')\n",
    "zam_praha = pandas.read_csv('zam_praha.csv')"
   ]
  },
  {
   "cell_type": "code",
   "execution_count": null,
   "metadata": {},
   "outputs": [],
   "source": [
    "zam_liberec['mesto'] = 'Liberec'\n",
    "zam_plzen['mesto'] = 'Plzeň'\n",
    "zam_praha['mesto'] = 'Praha'"
   ]
  },
  {
   "cell_type": "code",
   "execution_count": null,
   "metadata": {},
   "outputs": [],
   "source": [
    "zamestnanci = pandas.concat([zam_liberec, zam_plzen, zam_praha])\n",
    "zamestnanci.reset_index(drop=True)\n",
    "zamestnanci.shape"
   ]
  },
  {
   "cell_type": "code",
   "execution_count": null,
   "metadata": {},
   "outputs": [],
   "source": [
    "platy_02_21 = pandas.read_csv('platy_2021_02.csv')\n",
    "zamestnanci_02_21 = pandas.merge(zamestnanci, platy_02_21, how='outer', left_on=['cislo_zamestnance'], right_on=['cislo_zamestnance'])\n",
    "zamestnanci_02_21.shape"
   ]
  },
  {
   "cell_type": "code",
   "execution_count": null,
   "metadata": {},
   "outputs": [],
   "source": [
    "zamestnanci_02_21[zamestnanci_02_21['plat'].isnull()]\n"
   ]
  },
  {
   "cell_type": "code",
   "execution_count": null,
   "metadata": {},
   "outputs": [],
   "source": [
    "zamestnanci_02_21.groupby('mesto')['plat'].mean()"
   ]
  },
  {
   "cell_type": "code",
   "execution_count": null,
   "metadata": {},
   "outputs": [],
   "source": [
    "vykazy_02_21 = pandas.read_csv('vykazy.csv')\n",
    "vykazy_02_21.groupby('project')['hours'].sum()"
   ]
  }
 ],
 "metadata": {
  "kernelspec": {
   "display_name": "Python 3",
   "language": "python",
   "name": "python3"
  },
  "language_info": {
   "codemirror_mode": {
    "name": "ipython",
    "version": 3
   },
   "file_extension": ".py",
   "mimetype": "text/x-python",
   "name": "python",
   "nbconvert_exporter": "python",
   "pygments_lexer": "ipython3",
   "version": "3.9.10"
  }
 },
 "nbformat": 4,
 "nbformat_minor": 2
}
