{
 "cells": [
  {
   "cell_type": "code",
   "execution_count": null,
   "metadata": {},
   "outputs": [],
   "source": [
    "import pandas\n",
    "teploty = pandas.read_csv('temperature.txt', sep=',')\n",
    "teploty.head(10)"
   ]
  },
  {
   "cell_type": "code",
   "execution_count": null,
   "metadata": {},
   "outputs": [],
   "source": [
    "teploty_praha = teploty[(teploty[\"City\"] == \"Prague\")]\n",
    "teploty_praha"
   ]
  },
  {
   "cell_type": "code",
   "execution_count": null,
   "metadata": {},
   "outputs": [],
   "source": [
    "nad_80_stupnu = teploty[teploty['AvgTemperature'] >= 80]\n",
    "nad_80_stupnu"
   ]
  },
  {
   "cell_type": "code",
   "execution_count": null,
   "metadata": {},
   "outputs": [],
   "source": [
    "nad_60_stupnu_evropa = teploty[(teploty['AvgTemperature'] >= 60) & (teploty['Region'] == \"Europe\")]\n",
    "nad_60_stupnu_evropa"
   ]
  },
  {
   "cell_type": "code",
   "execution_count": null,
   "metadata": {},
   "outputs": [],
   "source": [
    "extremni_teploty = teploty[(teploty['AvgTemperature'] <= -20) | (teploty['AvgTemperature'] >= 80)]\n",
    "extremni_teploty"
   ]
  }
 ],
 "metadata": {
  "kernelspec": {
   "display_name": "Python 3",
   "language": "python",
   "name": "python3"
  },
  "language_info": {
   "codemirror_mode": {
    "name": "ipython",
    "version": 3
   },
   "file_extension": ".py",
   "mimetype": "text/x-python",
   "name": "python",
   "nbconvert_exporter": "python",
   "pygments_lexer": "ipython3",
   "version": "3.9.10"
  }
 },
 "nbformat": 4,
 "nbformat_minor": 2
}
